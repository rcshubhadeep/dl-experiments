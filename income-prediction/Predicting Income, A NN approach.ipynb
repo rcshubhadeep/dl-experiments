{
 "cells": [
  {
   "cell_type": "markdown",
   "metadata": {},
   "source": [
    "# The data is collected from - [here](http://archive.ics.uci.edu/ml/machine-learning-databases/adult/adult.names)"
   ]
  },
  {
   "cell_type": "markdown",
   "metadata": {},
   "source": [
    "We first import all the necessary libarries"
   ]
  },
  {
   "cell_type": "code",
   "execution_count": 5,
   "metadata": {},
   "outputs": [
    {
     "name": "stderr",
     "output_type": "stream",
     "text": [
      "Using TensorFlow backend.\n"
     ]
    }
   ],
   "source": [
    "import numpy as np\n",
    "import pandas as pd\n",
    "import matplotlib.pyplot as plt\n",
    "from matplotlib.pyplot import imshow\n",
    "import seaborn as sns\n",
    "from PIL import Image\n",
    "\n",
    "\n",
    "from sklearn import preprocessing\n",
    "\n",
    "from keras.models import Sequential\n",
    "from keras.layers import Dense, Dropout\n",
    "from keras.callbacks import TensorBoard\n",
    "from keras import optimizers\n",
    "from keras import regularizers\n",
    "\n",
    "%matplotlib inline"
   ]
  },
  {
   "cell_type": "markdown",
   "metadata": {},
   "source": [
    "We define some functions that we are going to use to prepare our data. Make a note there is absolutely no \n",
    "feature engineering going on here apart from numeratizing some text values."
   ]
  },
  {
   "cell_type": "code",
   "execution_count": 6,
   "metadata": {},
   "outputs": [],
   "source": [
    "def strip_it(s):\n",
    "    if isinstance(s, str):\n",
    "        return s.strip()\n",
    "    else:\n",
    "        return ''\n",
    "\n",
    "    \n",
    "def prepare_data(file_name, income_str=\"<=50K\"):\n",
    "    \"\"\"To prepare our training and test sets.\n",
    "    \"\"\"\n",
    "    names = [\"age\", \"workclass\", \"finalweight\", \"education\", \"education-num\", \"marital-status\", \"occupation\", \"relationship\", \"race\", \"sex\", \"capital-gain\", \"capital-loss\", \"hours-per-week\", \"native-country\", \"income\"]\n",
    "    df = pd.read_csv(file_name, index_col=False, header=None, names=names)\n",
    "        \n",
    "    # bcause we need to assign 1 to > 50k\n",
    "    df['income'] = np.where(df.income.str.strip() == income_str, \"0\", \"1\")\n",
    "    \n",
    "    # Converting training data\n",
    "    df['workclass'].replace(' ?', np.nan, inplace=True)\n",
    "    df['native-country'].replace(' ?', np.nan, inplace=True)\n",
    "    df['education'].replace(' ?', np.nan, inplace=True)\n",
    "    df['occupation'].replace(' ?', '', inplace=True)\n",
    "    df['relationship'].replace(' ?', '', inplace=True)\n",
    "    df['native-country'].replace(' ?', '', inplace=True)\n",
    "\n",
    "    workclass_rep = {'State-gov': 1, 'Self-emp-not-inc': 2, 'Private': 3, 'Federal-gov': 4,\n",
    "           'Local-gov': 5, 'Self-emp-inc': 6, 'Without-pay': 7, 'Never-worked': 8}\n",
    "\n",
    "    df['workclass_num'] = pd.Series(df['workclass'].apply(lambda x: workclass_rep[x.strip()] if x is not np.nan else np.nan))\n",
    "    # education_rep = {'Bachelors': 1, 'HS-grad': 2, '11th': 3, 'Masters': 4, '9th': 5,\n",
    "    #         'Some-college': 6, 'Assoc-acdm': 7, 'Assoc-voc': 8, '7th-8th': 9,\n",
    "    #         'Doctorate': 10, 'Prof-school': 11, '5th-6th': 12, '10th': 13, '1st-4th': 14,\n",
    "    #         'Preschool': 15, '12th': 16}\n",
    "    # df['education_num'] = df['education'].apply(lambda x: education_rep[x.strip()] if x is not np.nan else np.nan)\n",
    "\n",
    "    marital_rep = {'Never-married': 1, 'Married-civ-spouse': 2, 'Divorced': 3,\n",
    "           'Married-spouse-absent': 5, 'Separated': 6, 'Married-AF-spouse': 7,\n",
    "            'Widowed': 8}\n",
    "    df['marital_status_num'] = df['marital-status'].apply(lambda x: marital_rep[x.strip()] if x is not np.nan else np.nan)\n",
    "\n",
    "    df.dropna(subset=['workclass', 'native-country', 'education'])\n",
    "\n",
    "    oc = map(strip_it, df['occupation'].unique())\n",
    "    occ = {o: idx+1 for idx, o in enumerate(oc) if o}\n",
    "    df['occupation_num'] = pd.Series(df['occupation'].apply(lambda x: occ[x.strip()] if isinstance(x, str) and x.strip() in occ else np.nan))\n",
    "\n",
    "    oc = map(strip_it, df['relationship'].unique())\n",
    "    occ = {o: idx+1 for idx, o in enumerate(oc) if o}\n",
    "    df['relationship_num'] = pd.Series(df['relationship'].apply(lambda x: occ[x.strip()] if isinstance(x, str) and x.strip() in occ else np.nan))\n",
    "\n",
    "    oc = map(strip_it, df['native-country'].unique())\n",
    "    occ = {o: idx+1 for idx, o in enumerate(oc) if o}\n",
    "    df['native-country_num'] = pd.Series(df['native-country'].apply(lambda x: occ[x.strip()] if isinstance(x, str) and x.strip() in occ else np.nan))\n",
    "\n",
    "    df1 = df[['age', 'education-num', 'finalweight', 'hours-per-week', 'workclass_num', 'marital_status_num', 'occupation_num', 'native-country_num', 'capital-gain', 'capital-loss', 'income']]\n",
    "    df2 = df1.dropna()\n",
    "    \n",
    "    df2.apply(pd.to_numeric, errors='ignore')\n",
    "    Xtemp = df2[['age', 'education-num', 'finalweight', 'hours-per-week', 'workclass_num', 'marital_status_num', 'occupation_num', 'native-country_num', 'capital-gain', 'capital-loss']]\n",
    "    Xtemp['avg_finalweight'] = Xtemp.apply(lambda row: row['finalweight'] / Xtemp.shape[0], axis=1)\n",
    "    Xtemp.drop('finalweight', axis=1, inplace=True)\n",
    "    y = df2['income']\n",
    "\n",
    "    return Xtemp, y\n",
    "\n",
    "\n",
    "def normalize(xval):\n",
    "    \"\"\"To normalize the data\n",
    "    \"\"\"\n",
    "    min_max_scaler = preprocessing.MinMaxScaler(feature_range=(0, 1))\n",
    "    X = min_max_scaler.fit_transform(xval)\n",
    "    scaler = preprocessing.StandardScaler().fit(X)\n",
    "    X = scaler.transform(X)\n",
    "    X = X.astype('float32')\n",
    "    return X"
   ]
  },
  {
   "cell_type": "markdown",
   "metadata": {},
   "source": [
    "We load the data now."
   ]
  },
  {
   "cell_type": "code",
   "execution_count": 7,
   "metadata": {},
   "outputs": [],
   "source": [
    "xtemp1, y1 = prepare_data('adult.data')\n",
    "xtemp2, y2 = prepare_data('adult.test', income_str=\"<=50K.\")"
   ]
  },
  {
   "cell_type": "markdown",
   "metadata": {},
   "source": [
    "Let's check the dimension of the input matrices."
   ]
  },
  {
   "cell_type": "code",
   "execution_count": 8,
   "metadata": {},
   "outputs": [
    {
     "name": "stdout",
     "output_type": "stream",
     "text": [
      "(30162, 10)\n",
      "(15060, 10)\n"
     ]
    }
   ],
   "source": [
    "print(xtemp1.shape)\n",
    "print(xtemp2.shape)"
   ]
  },
  {
   "cell_type": "markdown",
   "metadata": {},
   "source": [
    "*The above numbers match the description of the dataset* \n",
    "\n",
    "It *also* tells us that we have a total of 30162 number of training examples each with 10 features and a total of 15060 number of test examples. \n",
    "\n",
    "it is time to normalize things."
   ]
  },
  {
   "cell_type": "code",
   "execution_count": 9,
   "metadata": {},
   "outputs": [],
   "source": [
    "X = normalize(xtemp1)\n",
    "Y = y1.values.reshape(y1.shape[0], 1)"
   ]
  },
  {
   "cell_type": "markdown",
   "metadata": {},
   "source": [
    "We assign the values to training sets. Just a convinient way to name variables for later use."
   ]
  },
  {
   "cell_type": "code",
   "execution_count": 10,
   "metadata": {},
   "outputs": [],
   "source": [
    "x_train = X\n",
    "y_train = Y"
   ]
  },
  {
   "cell_type": "markdown",
   "metadata": {},
   "source": [
    "As we will be using the test set to predict, we will normalize the data as well."
   ]
  },
  {
   "cell_type": "code",
   "execution_count": 12,
   "metadata": {},
   "outputs": [],
   "source": [
    "X = normalize(xtemp2)\n",
    "Y = y2.values.reshape(y2.shape[0], 1)"
   ]
  },
  {
   "cell_type": "markdown",
   "metadata": {},
   "source": [
    "And then, similarly, assign them to some variables with a nice name."
   ]
  },
  {
   "cell_type": "code",
   "execution_count": 13,
   "metadata": {},
   "outputs": [],
   "source": [
    "x_test = X\n",
    "y_test = Y"
   ]
  },
  {
   "cell_type": "markdown",
   "metadata": {},
   "source": [
    "## Time to build the Neural Net now!"
   ]
  },
  {
   "cell_type": "code",
   "execution_count": 15,
   "metadata": {},
   "outputs": [
    {
     "name": "stdout",
     "output_type": "stream",
     "text": [
      "Epoch 1/100\n",
      "27145/27145 [==============================] - 1s - loss: 0.9136 - acc: 0.7618     \n",
      "Epoch 2/100\n",
      "27145/27145 [==============================] - 1s - loss: 0.7403 - acc: 0.7848     \n",
      "Epoch 3/100\n",
      "27145/27145 [==============================] - 0s - loss: 0.6442 - acc: 0.7966     \n",
      "Epoch 4/100\n",
      "27145/27145 [==============================] - 1s - loss: 0.5811 - acc: 0.8046     \n",
      "Epoch 5/100\n",
      "27145/27145 [==============================] - 1s - loss: 0.5403 - acc: 0.8098     \n",
      "Epoch 6/100\n",
      "27145/27145 [==============================] - 1s - loss: 0.5132 - acc: 0.8109     \n",
      "Epoch 7/100\n",
      "27145/27145 [==============================] - 1s - loss: 0.4945 - acc: 0.8137     \n",
      "Epoch 8/100\n",
      "27145/27145 [==============================] - 1s - loss: 0.4811 - acc: 0.8154     \n",
      "Epoch 9/100\n",
      "27145/27145 [==============================] - 1s - loss: 0.4711 - acc: 0.8178     \n",
      "Epoch 10/100\n",
      "27145/27145 [==============================] - 0s - loss: 0.4631 - acc: 0.8190     \n",
      "Epoch 11/100\n",
      "27145/27145 [==============================] - 0s - loss: 0.4565 - acc: 0.8215     \n",
      "Epoch 12/100\n",
      "27145/27145 [==============================] - 1s - loss: 0.4510 - acc: 0.8235     \n",
      "Epoch 13/100\n",
      "27145/27145 [==============================] - 1s - loss: 0.4463 - acc: 0.8255     \n",
      "Epoch 14/100\n",
      "27145/27145 [==============================] - 1s - loss: 0.4423 - acc: 0.8265     \n",
      "Epoch 15/100\n",
      "27145/27145 [==============================] - 1s - loss: 0.4386 - acc: 0.8279     \n",
      "Epoch 16/100\n",
      "27145/27145 [==============================] - 1s - loss: 0.4355 - acc: 0.8287     \n",
      "Epoch 17/100\n",
      "27145/27145 [==============================] - 1s - loss: 0.4325 - acc: 0.8291     \n",
      "Epoch 18/100\n",
      "27145/27145 [==============================] - 1s - loss: 0.4299 - acc: 0.8304     \n",
      "Epoch 19/100\n",
      "27145/27145 [==============================] - 1s - loss: 0.4275 - acc: 0.8311     \n",
      "Epoch 20/100\n",
      "27145/27145 [==============================] - 1s - loss: 0.4252 - acc: 0.8324     \n",
      "Epoch 21/100\n",
      "27145/27145 [==============================] - 1s - loss: 0.4230 - acc: 0.8328     \n",
      "Epoch 22/100\n",
      "27145/27145 [==============================] - 1s - loss: 0.4209 - acc: 0.8332     \n",
      "Epoch 23/100\n",
      "27145/27145 [==============================] - 1s - loss: 0.4191 - acc: 0.8330     \n",
      "Epoch 24/100\n",
      "27145/27145 [==============================] - 1s - loss: 0.4172 - acc: 0.8340     \n",
      "Epoch 25/100\n",
      "27145/27145 [==============================] - 1s - loss: 0.4155 - acc: 0.8340     \n",
      "Epoch 26/100\n",
      "27145/27145 [==============================] - 1s - loss: 0.4138 - acc: 0.8347     \n",
      "Epoch 27/100\n",
      "27145/27145 [==============================] - 1s - loss: 0.4124 - acc: 0.8352     \n",
      "Epoch 28/100\n",
      "27145/27145 [==============================] - 1s - loss: 0.4110 - acc: 0.8353     \n",
      "Epoch 29/100\n",
      "27145/27145 [==============================] - 1s - loss: 0.4098 - acc: 0.8359     \n",
      "Epoch 30/100\n",
      "27145/27145 [==============================] - 1s - loss: 0.4086 - acc: 0.8364     \n",
      "Epoch 31/100\n",
      "27145/27145 [==============================] - 1s - loss: 0.4073 - acc: 0.8365     \n",
      "Epoch 32/100\n",
      "27145/27145 [==============================] - 1s - loss: 0.4063 - acc: 0.8369     \n",
      "Epoch 33/100\n",
      "27145/27145 [==============================] - 0s - loss: 0.4053 - acc: 0.8365     \n",
      "Epoch 34/100\n",
      "27145/27145 [==============================] - 1s - loss: 0.4042 - acc: 0.8387     \n",
      "Epoch 35/100\n",
      "27145/27145 [==============================] - 1s - loss: 0.4034 - acc: 0.8381     \n",
      "Epoch 36/100\n",
      "27145/27145 [==============================] - 1s - loss: 0.4025 - acc: 0.8380     \n",
      "Epoch 37/100\n",
      "27145/27145 [==============================] - 0s - loss: 0.4017 - acc: 0.8377     \n",
      "Epoch 38/100\n",
      "27145/27145 [==============================] - 1s - loss: 0.4008 - acc: 0.8387     \n",
      "Epoch 39/100\n",
      "27145/27145 [==============================] - 1s - loss: 0.4000 - acc: 0.8382     \n",
      "Epoch 40/100\n",
      "27145/27145 [==============================] - 1s - loss: 0.3994 - acc: 0.8393     \n",
      "Epoch 41/100\n",
      "27145/27145 [==============================] - 1s - loss: 0.3987 - acc: 0.8383     \n",
      "Epoch 42/100\n",
      "27145/27145 [==============================] - 1s - loss: 0.3980 - acc: 0.8386     \n",
      "Epoch 43/100\n",
      "27145/27145 [==============================] - 1s - loss: 0.3973 - acc: 0.8390     \n",
      "Epoch 44/100\n",
      "27145/27145 [==============================] - 1s - loss: 0.3968 - acc: 0.8403     \n",
      "Epoch 45/100\n",
      "27145/27145 [==============================] - 1s - loss: 0.3962 - acc: 0.8395     \n",
      "Epoch 46/100\n",
      "27145/27145 [==============================] - 1s - loss: 0.3955 - acc: 0.8392     \n",
      "Epoch 47/100\n",
      "27145/27145 [==============================] - 1s - loss: 0.3948 - acc: 0.8402     \n",
      "Epoch 48/100\n",
      "27145/27145 [==============================] - 1s - loss: 0.3942 - acc: 0.8398     \n",
      "Epoch 49/100\n",
      "27145/27145 [==============================] - 1s - loss: 0.3936 - acc: 0.8401     \n",
      "Epoch 50/100\n",
      "27145/27145 [==============================] - 1s - loss: 0.3929 - acc: 0.8411     \n",
      "Epoch 51/100\n",
      "27145/27145 [==============================] - 1s - loss: 0.3923 - acc: 0.8404     \n",
      "Epoch 52/100\n",
      "27145/27145 [==============================] - 1s - loss: 0.3917 - acc: 0.8411     \n",
      "Epoch 53/100\n",
      "27145/27145 [==============================] - 1s - loss: 0.3911 - acc: 0.8404     \n",
      "Epoch 54/100\n",
      "27145/27145 [==============================] - 1s - loss: 0.3905 - acc: 0.8416     \n",
      "Epoch 55/100\n",
      "27145/27145 [==============================] - 1s - loss: 0.3899 - acc: 0.8417     \n",
      "Epoch 56/100\n",
      "27145/27145 [==============================] - 1s - loss: 0.3893 - acc: 0.8416     \n",
      "Epoch 57/100\n",
      "27145/27145 [==============================] - 1s - loss: 0.3887 - acc: 0.8421     \n",
      "Epoch 58/100\n",
      "27145/27145 [==============================] - 1s - loss: 0.3881 - acc: 0.8425     \n",
      "Epoch 59/100\n",
      "27145/27145 [==============================] - 1s - loss: 0.3876 - acc: 0.8425     \n",
      "Epoch 60/100\n",
      "27145/27145 [==============================] - 1s - loss: 0.3870 - acc: 0.8428     \n",
      "Epoch 61/100\n",
      "27145/27145 [==============================] - 1s - loss: 0.3866 - acc: 0.8432     \n",
      "Epoch 62/100\n",
      "27145/27145 [==============================] - 1s - loss: 0.3860 - acc: 0.8429     \n",
      "Epoch 63/100\n",
      "27145/27145 [==============================] - 1s - loss: 0.3856 - acc: 0.8435     \n",
      "Epoch 64/100\n",
      "27145/27145 [==============================] - 1s - loss: 0.3853 - acc: 0.8430     \n",
      "Epoch 65/100\n",
      "27145/27145 [==============================] - 1s - loss: 0.3847 - acc: 0.8433     - ETA: 1s -\n",
      "Epoch 66/100\n",
      "27145/27145 [==============================] - 1s - loss: 0.3844 - acc: 0.8432     \n",
      "Epoch 67/100\n",
      "27145/27145 [==============================] - 1s - loss: 0.3840 - acc: 0.8435     \n",
      "Epoch 68/100\n",
      "27145/27145 [==============================] - 1s - loss: 0.3836 - acc: 0.8435     \n",
      "Epoch 69/100\n",
      "27145/27145 [==============================] - 1s - loss: 0.3832 - acc: 0.8438     \n",
      "Epoch 70/100\n",
      "27145/27145 [==============================] - 1s - loss: 0.3829 - acc: 0.8432     \n",
      "Epoch 71/100\n",
      "27145/27145 [==============================] - 1s - loss: 0.3825 - acc: 0.8431     \n",
      "Epoch 72/100\n",
      "27145/27145 [==============================] - 1s - loss: 0.3821 - acc: 0.8440     \n",
      "Epoch 73/100\n",
      "27145/27145 [==============================] - 1s - loss: 0.3820 - acc: 0.8435     \n",
      "Epoch 74/100\n",
      "27145/27145 [==============================] - 1s - loss: 0.3816 - acc: 0.8434     \n",
      "Epoch 75/100\n",
      "27145/27145 [==============================] - 1s - loss: 0.3813 - acc: 0.8427     \n",
      "Epoch 76/100\n",
      "27145/27145 [==============================] - 1s - loss: 0.3810 - acc: 0.8446     \n",
      "Epoch 77/100\n",
      "27145/27145 [==============================] - 1s - loss: 0.3809 - acc: 0.8435     \n",
      "Epoch 78/100\n",
      "27145/27145 [==============================] - 1s - loss: 0.3805 - acc: 0.8433     \n",
      "Epoch 79/100\n",
      "27145/27145 [==============================] - 1s - loss: 0.3804 - acc: 0.8431     \n",
      "Epoch 80/100\n",
      "27145/27145 [==============================] - 1s - loss: 0.3801 - acc: 0.8442     \n",
      "Epoch 81/100\n",
      "27145/27145 [==============================] - 1s - loss: 0.3798 - acc: 0.8442     \n",
      "Epoch 82/100\n",
      "27145/27145 [==============================] - 1s - loss: 0.3796 - acc: 0.8434     \n",
      "Epoch 83/100\n",
      "27145/27145 [==============================] - 1s - loss: 0.3793 - acc: 0.8440     \n",
      "Epoch 84/100\n",
      "27145/27145 [==============================] - 1s - loss: 0.3790 - acc: 0.8443     \n",
      "Epoch 85/100\n"
     ]
    },
    {
     "name": "stdout",
     "output_type": "stream",
     "text": [
      "27145/27145 [==============================] - 0s - loss: 0.3788 - acc: 0.8445     \n",
      "Epoch 86/100\n",
      "27145/27145 [==============================] - 0s - loss: 0.3786 - acc: 0.8441     \n",
      "Epoch 87/100\n",
      "27145/27145 [==============================] - 0s - loss: 0.3784 - acc: 0.8438     \n",
      "Epoch 88/100\n",
      "27145/27145 [==============================] - 1s - loss: 0.3783 - acc: 0.8442     \n",
      "Epoch 89/100\n",
      "27145/27145 [==============================] - 1s - loss: 0.3780 - acc: 0.8444     \n",
      "Epoch 90/100\n",
      "27145/27145 [==============================] - 1s - loss: 0.3777 - acc: 0.8445     \n",
      "Epoch 91/100\n",
      "27145/27145 [==============================] - 1s - loss: 0.3776 - acc: 0.8439     \n",
      "Epoch 92/100\n",
      "27145/27145 [==============================] - 1s - loss: 0.3773 - acc: 0.8441     \n",
      "Epoch 93/100\n",
      "27145/27145 [==============================] - 1s - loss: 0.3773 - acc: 0.8443     \n",
      "Epoch 94/100\n",
      "27145/27145 [==============================] - 1s - loss: 0.3770 - acc: 0.8444     \n",
      "Epoch 95/100\n",
      "27145/27145 [==============================] - 1s - loss: 0.3768 - acc: 0.8447     \n",
      "Epoch 96/100\n",
      "27145/27145 [==============================] - 1s - loss: 0.3764 - acc: 0.8441     \n",
      "Epoch 97/100\n",
      "27145/27145 [==============================] - 1s - loss: 0.3764 - acc: 0.8447     \n",
      "Epoch 98/100\n",
      "27145/27145 [==============================] - 1s - loss: 0.3763 - acc: 0.8444     \n",
      "Epoch 99/100\n",
      "27145/27145 [==============================] - 1s - loss: 0.3761 - acc: 0.8446     \n",
      "Epoch 100/100\n",
      "27145/27145 [==============================] - 1s - loss: 0.3758 - acc: 0.8440     \n"
     ]
    }
   ],
   "source": [
    "# We need this to make a train-dev set split\n",
    "from sklearn.model_selection import train_test_split\n",
    "# Calculate the input dimension.\n",
    "inpdim = x_train.shape[1]\n",
    "\n",
    "# Create an optimizer\n",
    "optim = optimizers.adam(lr=0.0001)\n",
    "\n",
    "# This is not really used for now!\n",
    "cvscores = []\n",
    "\n",
    "# Build the network. 16->16->16->1 ... we are doing Deep Learning!\n",
    "model = Sequential()\n",
    "# The kernel_regularizer is the same as weight regularizer.\n",
    "model.add(Dense(16, input_dim=inpdim, activation='relu', kernel_regularizer=regularizers.l2(0.01)))\n",
    "# model.add(Dropout(0.7))  # Not for now. \n",
    "model.add(Dense(16, activation='relu', kernel_regularizer=regularizers.l2(0.01)))\n",
    "model.add(Dense(16, activation='relu', kernel_regularizer=regularizers.l2(0.01)))\n",
    "# model.add(Dropout(0.7))  #  Not for now\n",
    "model.add(Dense(1, activation='sigmoid'))\n",
    "\n",
    "# Compile our model to be reda\n",
    "model.compile(loss='binary_crossentropy',\n",
    "              optimizer=optim,\n",
    "              metrics=['accuracy'])\n",
    "# Train the model, iterating on the data in batches of 32 samples\n",
    "x_train_splt, x_test_splt, y_train_splt, y_test_splt = train_test_split(x_train, y_train, test_size=0.1, random_state=0)\n",
    "\n",
    "his = model.fit(x_train_splt, y_train_splt, epochs=100, batch_size=32)\n",
    "scores = model.evaluate(x_test_splt, y_test_splt, verbose=0)\n",
    "cvscores.append((scores[0], scores[1]))"
   ]
  },
  {
   "cell_type": "markdown",
   "metadata": {},
   "source": [
    "Let's plot the learning(accuracy) and error - "
   ]
  },
  {
   "cell_type": "code",
   "execution_count": 17,
   "metadata": {},
   "outputs": [
    {
     "data": {
      "text/plain": [
       "<matplotlib.axes._subplots.AxesSubplot at 0x7f3828378ac8>"
      ]
     },
     "execution_count": 17,
     "metadata": {},
     "output_type": "execute_result"
    },
    {
     "data": {
      "image/png": "[encoded data removed]",
      "text/plain": [
       "<matplotlib.figure.Figure at 0x7f382841b0b8>"
      ]
     },
     "metadata": {},
     "output_type": "display_data"
    }
   ],
   "source": [
    "import warnings\n",
    "warnings.filterwarnings('ignore')\n",
    "epochs = [idx for idx, _ in enumerate(his.history['acc'])]\n",
    "pf1 = pd.DataFrame({'epocs': epochs, 'val': his.history['acc'], 'direction':'accuracy'})\n",
    "pf2 = pd.DataFrame({'epocs': epochs, 'val': his.history['loss'], 'direction':'loss'})\n",
    "plot_frame = pd.concat([pf1,pf2],axis=0)\n",
    "plot_frame['unit'] = 'subject'\n",
    "\n",
    "fig = plt.figure(figsize=(25,20))\n",
    "sns.tsplot(data=plot_frame, time='epocs', condition='direction',\n",
    "unit='unit', value='val')"
   ]
  },
  {
   "cell_type": "markdown",
   "metadata": {},
   "source": [
    "Looks nice! It seems that our model learned well. Let us try some predictions."
   ]
  },
  {
   "cell_type": "code",
   "execution_count": 18,
   "metadata": {},
   "outputs": [
    {
     "name": "stdout",
     "output_type": "stream",
     "text": [
      "We predicted 12677 rightly among 15060 total\n",
      "=============================================\n",
      "Which is - 84.17662682602922%\n"
     ]
    }
   ],
   "source": [
    "p = model.predict(x_test)\n",
    "p_actual = np.where(p <= 0.5, 0, 1)\n",
    "right_preds = []\n",
    "for i in range(len(y_test)):\n",
    "    yt = y_test[i]\n",
    "    pt = p_actual[i]\n",
    "    if yt.astype(int)==pt.astype(int):\n",
    "        right_preds.append(1)\n",
    "\n",
    "print(\"We predicted {} rightly among {} total\".format(len(right_preds), y_test.shape[0]))\n",
    "print(\"=============================================\")\n",
    "print(\"Which is - {}%\".format((len(right_preds) / y_test.shape[0])*100))"
   ]
  },
  {
   "cell_type": "markdown",
   "metadata": {},
   "source": [
    "This means, in the test set we have a (100-84.18) = 15.82% error. Not Bad! "
   ]
  }
 ],
 "metadata": {
  "kernelspec": {
   "display_name": "Python 3",
   "language": "python",
   "name": "python3"
  },
  "language_info": {
   "codemirror_mode": {
    "name": "ipython",
    "version": 3
   },
   "file_extension": ".py",
   "mimetype": "text/x-python",
   "name": "python",
   "nbconvert_exporter": "python",
   "pygments_lexer": "ipython3",
   "version": "3.6.3"
  }
 },
 "nbformat": 4,
 "nbformat_minor": 2
}
